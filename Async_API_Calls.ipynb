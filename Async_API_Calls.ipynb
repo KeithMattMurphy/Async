{
 "cells": [
  {
   "cell_type": "markdown",
   "id": "02226b30-b9d8-4138-b68e-37c6c7f4ad05",
   "metadata": {},
   "source": [
    "# Imports & settings"
   ]
  },
  {
   "cell_type": "code",
   "execution_count": null,
   "id": "7caa0136-774d-4776-8754-8061b7745fba",
   "metadata": {},
   "outputs": [],
   "source": [
    "import sys\n",
    "\n",
    "from dateutil.relativedelta import relativedelta\n",
    "import time, datetime\n",
    "import xlrd\n",
    "import os, getpass, requests, sys, asyncio, aiohttp, time, logging,datetime\n",
    "import functools\n",
    "from pandas.io.json import json_normalize\n",
    "import pandas as pd\n",
    "import logging\n",
    "import os\n",
    "cwd = os.getcwd()\n",
    "folder_loc = str (cwd +\"/files/\")\n"
   ]
  },
  {
   "cell_type": "markdown",
   "id": "fdf83d89-e7b5-4653-be79-e78ee2f82a92",
   "metadata": {},
   "source": [
    "# Logging"
   ]
  },
  {
   "cell_type": "code",
   "execution_count": null,
   "id": "34665f7e-418d-4235-ac92-439d39e8808b",
   "metadata": {},
   "outputs": [],
   "source": [
    "logfile = str(folder_loc + 'asynclog' + \".log\")\n",
    "logging.basicConfig(level=logging.DEBUG, filename=logfile, format='%(asctime)s %(message)s', datefmt='%m/%d/%Y %I:%M:%S %p')\n",
    "logging.warning(\"Process started\")"
   ]
  },
  {
   "cell_type": "markdown",
   "id": "91d8d3cb-afbb-43ca-b01e-50a48ac39049",
   "metadata": {},
   "source": [
    "# API Credentials"
   ]
  },
  {
   "cell_type": "code",
   "execution_count": null,
   "id": "04c5dae9-b287-4d82-9900-bf18ad1c9efc",
   "metadata": {},
   "outputs": [],
   "source": [
    "apiKey = os.environ.get('YourAPIKey')\n",
    "Bearer= 'Bearer ' + apiKey\n",
    "headers = {\"Authorization\": Bearer}\n",
    "url = \"YourURL?page={}&per_page={}\"\n",
    "per_page = 100"
   ]
  },
  {
   "cell_type": "markdown",
   "id": "9e42ed8d-4006-47f9-b82f-3216b07eb59e",
   "metadata": {},
   "source": [
    "## Add Callback Function"
   ]
  },
  {
   "cell_type": "code",
   "execution_count": null,
   "id": "23889b66-9d2b-478b-91d7-0ad874e47169",
   "metadata": {},
   "outputs": [],
   "source": [
    "def ReturnResult(future):\n",
    "    logging.warning(\"Process Complete\")\n",
    "    print(time.strftime('%y-%m-%d %H:%M'))\n",
    "    print(future.done())\n",
    "    \n",
    "    try:\n",
    "        print(len(results))\n",
    "    except:\n",
    "        pass"
   ]
  },
  {
   "cell_type": "markdown",
   "id": "ea6edf2e-6ce9-410a-95e7-b14a396a0699",
   "metadata": {},
   "source": [
    "# API Call"
   ]
  },
  {
   "cell_type": "code",
   "execution_count": null,
   "id": "7eec6efa-0a0e-4ee3-a65d-f82928c72687",
   "metadata": {
    "tags": []
   },
   "outputs": [],
   "source": [
    "async def Get_One_Page(session: aiohttp.ClientSession(), url: str, page: int, sem: asyncio.Semaphore):\n",
    "    async with sem:\n",
    "        if sem.locked():\n",
    "            print(\"Concurrency limit reached, waiting ...\"+str(page))\n",
    "#             await asyncio.sleep(1)\n",
    "                \n",
    "        try:\n",
    "            ur = await session.get(url.format(page, per_page), headers={\"Authorization\": Bearer})\n",
    "            r = await ur.json()\n",
    "            return r\n",
    "        except:\n",
    "            print(sys.exc_info()[1])\n",
    "\n",
    "\n",
    "\n",
    "async def Get_All_Pages(url: str, pages: int):\n",
    "    tasks = []\n",
    "    semaphore = asyncio.Semaphore(9)\n",
    "    async with aiohttp.ClientSession() as session: #open session    \n",
    "        try:\n",
    "            results = await asyncio.gather(*[Get_One_Page(session, url, num, semaphore) for num in range(1,pages+1)])\n",
    "        except:\n",
    "            print(sys.exc_info()[1])\n",
    "            \n",
    "    return results\n",
    "\n",
    "        "
   ]
  },
  {
   "cell_type": "markdown",
   "id": "cdca9f81-d1a4-4394-ab9b-f711a8905481",
   "metadata": {},
   "source": [
    "# Run Process"
   ]
  },
  {
   "cell_type": "code",
   "execution_count": null,
   "id": "05bde2e4-5e2a-4fc9-a57b-c534306f8f0f",
   "metadata": {
    "tags": []
   },
   "outputs": [],
   "source": [
    "loop = asyncio.get_event_loop()\n",
    "loop.set_debug(True)\n",
    "# session = aiohttp.ClientSession()"
   ]
  },
  {
   "cell_type": "code",
   "execution_count": null,
   "id": "87535c80-5bda-475f-abde-b7fa1acbc04b",
   "metadata": {
    "tags": []
   },
   "outputs": [],
   "source": [
    "future = asyncio.run_coroutine_threadsafe(Get_All_Pages(url, 20), loop)\n",
    "future.add_done_callback(ReturnResult)"
   ]
  },
  {
   "cell_type": "markdown",
   "id": "05342950-0982-4c95-930c-25e7d85a624d",
   "metadata": {},
   "source": [
    "# JSON Result\n",
    "returns a list of JSONs - you can flatten to a df"
   ]
  },
  {
   "cell_type": "code",
   "execution_count": null,
   "id": "d3a1ce32",
   "metadata": {},
   "outputs": [],
   "source": [
    "pages = future.result()\n"
   ]
  }
 ],
 "metadata": {
  "kernelspec": {
   "display_name": "Python 3",
   "language": "python",
   "name": "python3"
  },
  "language_info": {
   "codemirror_mode": {
    "name": "ipython",
    "version": 3
   },
   "file_extension": ".py",
   "mimetype": "text/x-python",
   "name": "python",
   "nbconvert_exporter": "python",
   "pygments_lexer": "ipython3",
   "version": "3.8.8"
  }
 },
 "nbformat": 4,
 "nbformat_minor": 5
}
